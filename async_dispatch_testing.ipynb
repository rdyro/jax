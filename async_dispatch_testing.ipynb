{
 "cells": [
  {
   "cell_type": "code",
   "execution_count": 1,
   "metadata": {},
   "outputs": [],
   "source": [
    "%load_ext autoreload\n",
    "%autoreload 2\n",
    "\n",
    "import functools\n",
    "import time\n",
    "\n",
    "import jax\n",
    "from jax import numpy as jnp\n",
    "from jax._src import array\n",
    "from jax.sharding import Mesh, PartitionSpec as P\n",
    "from jax.experimental.mesh_utils import create_device_mesh\n",
    "import numpy as np"
   ]
  },
  {
   "cell_type": "code",
   "execution_count": 2,
   "metadata": {},
   "outputs": [
    {
     "name": "stdout",
     "output_type": "stream",
     "text": [
      "cpu\n",
      "flops = 159999.0\n",
      "Call time: 1.5227e-02 s\n",
      "Calc time: 1.4534e-02 s\n",
      "Block time: 1.9945e+00 s\n"
     ]
    }
   ],
   "source": [
    "shape = (1600, 100)\n",
    "devices = jax.devices(\"cpu\")\n",
    "mesh = Mesh(create_device_mesh((len(devices),), devices), \"x\")\n",
    "shard = jax.NamedSharding(mesh, P(mesh.axis_names))\n",
    "\n",
    "def long_running(shape_):\n",
    "  time.sleep(2)\n",
    "  return np.random.randn(*shape_).astype(np.float32)\n",
    "\n",
    "@functools.partial(jax.jit, static_argnums=(0,))\n",
    "def long_running_jit(shape_):\n",
    "  #a = jnp.ones(round(1e1))\n",
    "  #a = a ** 2\n",
    "  b = jax.pure_callback(lambda shape: long_running(shape), \n",
    "                        jax.ShapeDtypeStruct(shape_, jnp.float32), shape_)\n",
    "  #return a[0] + b\n",
    "  return jnp.ones((), dtype=jnp.int8) + b\n",
    "\n",
    "#print(f\"flops = {long_running_jit.lower(shape).cost_analysis()['flops']}\")\n",
    "\n",
    "with jax.default_device(jax.devices(\"cpu\")[0]):\n",
    "  print(list(jnp.zeros(()).devices())[0].platform)\n",
    "  if list(jnp.zeros(()).devices())[0].platform not in (\"cuda\", \"gpu\"):\n",
    "    print(f\"flops = {long_running_jit.lower(shape).cost_analysis()['flops']}\")\n",
    "  t = time.time()\n",
    "  c = array.make_array_from_callback(\n",
    "    shape, shard, lambda i: long_running_jit((shape[0] // len(devices),) + shape[1:]))\n",
    "  t = time.time() - t\n",
    "  print(f\"Call time: {t:.4e} s\")\n",
    "\n",
    "  t = time.time()\n",
    "  d = 2 * c\n",
    "  t = time.time() - t\n",
    "  print(f\"Calc time: {t:.4e} s\")\n",
    "\n",
    "  t = time.time()\n",
    "  c.block_until_ready()\n",
    "  t = time.time() - t\n",
    "  print(f\"Block time: {t:.4e} s\")"
   ]
  },
  {
   "cell_type": "code",
   "execution_count": null,
   "metadata": {},
   "outputs": [],
   "source": []
  }
 ],
 "metadata": {
  "kernelspec": {
   "display_name": "devel",
   "language": "python",
   "name": "python3"
  },
  "language_info": {
   "codemirror_mode": {
    "name": "ipython",
    "version": 3
   },
   "file_extension": ".py",
   "mimetype": "text/x-python",
   "name": "python",
   "nbconvert_exporter": "python",
   "pygments_lexer": "ipython3",
   "version": "3.11.9"
  }
 },
 "nbformat": 4,
 "nbformat_minor": 2
}
