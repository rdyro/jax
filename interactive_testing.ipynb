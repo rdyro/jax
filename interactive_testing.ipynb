{
 "cells": [
  {
   "cell_type": "code",
   "execution_count": 2,
   "metadata": {},
   "outputs": [
    {
     "name": "stdout",
     "output_type": "stream",
     "text": [
      "The autoreload extension is already loaded. To reload it, use:\n",
      "  %reload_ext autoreload\n"
     ]
    }
   ],
   "source": [
    "%load_ext autoreload\n",
    "%autoreload 2"
   ]
  },
  {
   "cell_type": "code",
   "execution_count": 4,
   "metadata": {},
   "outputs": [],
   "source": [
    "import asyncio\n",
    "import functools\n",
    "import tempfile\n",
    "import time\n",
    "import os\n",
    "from uuid import uuid4\n",
    "import pathlib\n",
    "import uuid\n",
    "from typing import cast, Sequence\n",
    "from concurrent.futures import ThreadPoolExecutor\n",
    "os.environ[\"XLA_FLAGS\"] = \"--xla_force_host_platform_device_count=8\"\n",
    "\n",
    "import numpy as np\n",
    "import jax\n",
    "from jax import lax\n",
    "from jax import numpy as jnp\n",
    "from jax.experimental.shard_map import shard_map\n",
    "from jax.experimental.mesh_utils import create_device_mesh\n",
    "from jax.experimental.multihost_utils import broadcast_one_to_all\n",
    "from jax._src.array import ArrayImpl\n",
    "from jax._src import array\n",
    "from jax.core import ShapedArray, ConcreteArray\n",
    "from jax import sharding\n",
    "from jax.sharding import Mesh, NamedSharding, PartitionSpec as P\n",
    "from jax.experimental import multihost_utils as hutils\n",
    "from jaxlib import xla_client as xc\n",
    "\n",
    "import jaxfi as jaxm\n",
    "from wrap_torch2jax import torch2jax_with_vjp"
   ]
  },
  {
   "cell_type": "code",
   "execution_count": 19,
   "metadata": {},
   "outputs": [],
   "source": [
    "from jax.experimental.array_serialization import serialization_future\n",
    "\n",
    "global_mesh = Mesh(np.array(jax.devices(\"cpu\")).reshape((4, 2)), (\"x\", \"y\"))\n",
    "global_input_shape = (8, 2)\n",
    "mesh_axes = P(\"x\", \"y\")\n",
    "shard = NamedSharding(global_mesh, mesh_axes)\n",
    "array1 = jax.device_put(jaxm.randn(global_input_shape), shard)\n",
    "\n",
    "temp_ckpt_dir = tempfile.TemporaryDirectory().name\n",
    "fut = serialization_future.nonblocking_save(array1, temp_ckpt_dir)\n",
    "fut.pytree == jax.ShapeDtypeStruct(shape=(8, 2), dtype=np.float32)\n",
    "while not fut.done():\n",
    "  time.sleep(0.01)"
   ]
  },
  {
   "cell_type": "code",
   "execution_count": 20,
   "metadata": {},
   "outputs": [
    {
     "data": {
      "text/html": [
       "<pre style=\"white-space:pre;overflow-x:auto;line-height:normal;font-family:Menlo,'DejaVu Sans Mono',consolas,'Courier New',monospace\">┌───────┬───────┐\n",
       "│ CPU 0 │ CPU 1 │\n",
       "├───────┼───────┤\n",
       "│ CPU 2 │ CPU 3 │\n",
       "├───────┼───────┤\n",
       "│ CPU 4 │ CPU 5 │\n",
       "├───────┼───────┤\n",
       "│ CPU 6 │ CPU 7 │\n",
       "└───────┴───────┘\n",
       "</pre>\n"
      ],
      "text/plain": [
       "┌───────┬───────┐\n",
       "│ CPU 0 │ CPU 1 │\n",
       "├───────┼───────┤\n",
       "│ CPU 2 │ CPU 3 │\n",
       "├───────┼───────┤\n",
       "│ CPU 4 │ CPU 5 │\n",
       "├───────┼───────┤\n",
       "│ CPU 6 │ CPU 7 │\n",
       "└───────┴───────┘\n"
      ]
     },
     "metadata": {},
     "output_type": "display_data"
    }
   ],
   "source": [
    "jax.debug.visualize_array_sharding(array1)"
   ]
  },
  {
   "cell_type": "code",
   "execution_count": 25,
   "metadata": {},
   "outputs": [
    {
     "name": "stdout",
     "output_type": "stream",
     "text": [
      "['float32[8, 2] -> 556db1c3-5075-4847-bf58-6af82cf00de5']\n"
     ]
    }
   ],
   "source": [
    "fut = serialization_future.nonblocking_load(\n",
    "    temp_ckpt_dir, shardings=[NamedSharding(global_mesh, mesh_axes)])\n",
    "fut.pytree == jax.ShapeDtypeStruct(shape=(8, 2), dtype=np.float32)\n",
    "while not fut.done():\n",
    "  time.sleep(0.01)\n",
    "m1 = fut.result()\n",
    "assert m1.addressable_shards[0].data.shape == (2, 1)\n",
    "assert m1.dtype == np.float32"
   ]
  },
  {
   "cell_type": "code",
   "execution_count": 26,
   "metadata": {},
   "outputs": [
    {
     "name": "stdout",
     "output_type": "stream",
     "text": [
      "<class 'str'>\n",
      "<class 'str'>\n",
      "hello\n",
      "gs://rdyro-mixtral-storage\n"
     ]
    }
   ],
   "source": [
    "from pathlib import Path\n",
    "from etils.epath import Path as ePath\n",
    "print(type(Path(\"hello\").__fspath__()))\n",
    "print(type(ePath(\"gs://rdyro-mixtral-storage\").__fspath__()))\n",
    "print(Path(\"hello\").__fspath__())\n",
    "print(ePath(\"gs://rdyro-mixtral-storage\").__fspath__())"
   ]
  },
  {
   "cell_type": "code",
   "execution_count": 4,
   "metadata": {},
   "outputs": [],
   "source": [
    "from jax.experimental.array_serialization.new_api import load_pytree, save, load\n",
    "from jax.experimental.array_serialization.serialization_future import nonblocking_load, nonblocking_save\n",
    "import jaxfi as jaxm"
   ]
  },
  {
   "cell_type": "code",
   "execution_count": 21,
   "metadata": {},
   "outputs": [
    {
     "name": "stdout",
     "output_type": "stream",
     "text": [
      "ShapeDtypeStruct(shape=(100, 100), dtype=float32)\n"
     ]
    }
   ],
   "source": [
    "with tempfile.TemporaryDirectory() as tmpdir:\n",
    "  fut = nonblocking_save(jaxm.randn((100, 100)), tmpdir)\n",
    "  assert fut.pytree == jax.ShapeDtypeStruct((100, 100), jnp.float32)\n",
    "  print(fut.pytree)"
   ]
  },
  {
   "cell_type": "code",
   "execution_count": 9,
   "metadata": {},
   "outputs": [
    {
     "name": "stdout",
     "output_type": "stream",
     "text": [
      "{'b': [ShapeDtypeStruct(shape=(100, 100), dtype=float32), ShapeDtypeStruct(shape=(100, 100), dtype=float32)], 'hello': 1}\n"
     ]
    }
   ],
   "source": [
    "r = jax.random.normal(jax.random.key(int(time.time())), (100, 100))\n",
    "fut = nonblocking_save({\"hello\": 1, \"b\": [r, r]}, \"test_checkpoint\")\n",
    "print(fut.pytree)"
   ]
  },
  {
   "cell_type": "code",
   "execution_count": 10,
   "metadata": {},
   "outputs": [
    {
     "name": "stdout",
     "output_type": "stream",
     "text": [
      "['float32[100, 100] -> 0e5629f4-abef-496c-bff2-1ce20f693062', 'float32[100, 100] -> 2cb4f0b0-f196-4efb-91b5-a2b6263eb1a1', 'int -> dcbd494e-ce1e-4f0f-9b14-1af663fbbe91']\n",
      "{'b': [ShapeDtypeStruct(shape=(100, 100), dtype=float32), ShapeDtypeStruct(shape=(100, 100), dtype=float32)], 'hello': 'int'}\n"
     ]
    }
   ],
   "source": [
    "fut = nonblocking_load(\"test_checkpoint\")\n",
    "print(fut.pytree)"
   ]
  },
  {
   "cell_type": "code",
   "execution_count": 11,
   "metadata": {},
   "outputs": [
    {
     "data": {
      "text/plain": [
       "{'b': [ShapeDtypeStruct(shape=(100, 100), dtype=float32),\n",
       "  ShapeDtypeStruct(shape=(100, 100), dtype=float32)],\n",
       " 'hello': 'int'}"
      ]
     },
     "execution_count": 11,
     "metadata": {},
     "output_type": "execute_result"
    }
   ],
   "source": [
    "fut.pytree"
   ]
  },
  {
   "cell_type": "code",
   "execution_count": 12,
   "metadata": {},
   "outputs": [
    {
     "data": {
      "text/plain": [
       "{'b': [Array([[-0.08076067, -0.6227396 ,  0.22723912, ..., -0.86740726,\n",
       "          -0.80425376,  0.8863032 ],\n",
       "         [ 0.5787659 ,  1.218969  ,  0.3317969 , ..., -0.42311195,\n",
       "          -0.43619475, -0.7986426 ],\n",
       "         [ 0.64526623, -0.5652721 , -0.9524942 , ...,  0.10780644,\n",
       "          -2.1995645 , -0.3796637 ],\n",
       "         ...,\n",
       "         [ 1.5891613 , -1.6145512 ,  0.62276554, ..., -0.4588255 ,\n",
       "          -1.3757391 , -1.32873   ],\n",
       "         [-0.10977724,  1.0510896 , -1.5869526 , ...,  0.66006345,\n",
       "           1.0710827 ,  0.41363144],\n",
       "         [-1.3962336 ,  0.42232367, -3.105433  , ...,  0.28272235,\n",
       "          -1.5353185 ,  0.23680422]], dtype=float32),\n",
       "  Array([[-0.08076067, -0.6227396 ,  0.22723912, ..., -0.86740726,\n",
       "          -0.80425376,  0.8863032 ],\n",
       "         [ 0.5787659 ,  1.218969  ,  0.3317969 , ..., -0.42311195,\n",
       "          -0.43619475, -0.7986426 ],\n",
       "         [ 0.64526623, -0.5652721 , -0.9524942 , ...,  0.10780644,\n",
       "          -2.1995645 , -0.3796637 ],\n",
       "         ...,\n",
       "         [ 1.5891613 , -1.6145512 ,  0.62276554, ..., -0.4588255 ,\n",
       "          -1.3757391 , -1.32873   ],\n",
       "         [-0.10977724,  1.0510896 , -1.5869526 , ...,  0.66006345,\n",
       "           1.0710827 ,  0.41363144],\n",
       "         [-1.3962336 ,  0.42232367, -3.105433  , ...,  0.28272235,\n",
       "          -1.5353185 ,  0.23680422]], dtype=float32)],\n",
       " 'hello': 1}"
      ]
     },
     "execution_count": 12,
     "metadata": {},
     "output_type": "execute_result"
    }
   ],
   "source": [
    "fut.result()"
   ]
  },
  {
   "cell_type": "code",
   "execution_count": 4,
   "metadata": {},
   "outputs": [],
   "source": [
    "async def hello():\n",
    "  print(\"Hello World\")\n",
    "  return\n",
    "\n",
    "def sync_hello():\n",
    "  print(\"Hello World\")\n",
    "  return"
   ]
  },
  {
   "cell_type": "code",
   "execution_count": 21,
   "metadata": {},
   "outputs": [
    {
     "name": "stdout",
     "output_type": "stream",
     "text": [
      "Hello World\n"
     ]
    }
   ],
   "source": [
    "fut = asyncio.ensure_future(hello())"
   ]
  },
  {
   "cell_type": "code",
   "execution_count": 15,
   "metadata": {},
   "outputs": [],
   "source": [
    "futures = []\n",
    "with ThreadPoolExecutor(max_workers=1) as executor:\n",
    "    futures.append(executor.submit(hello))\n",
    "    futures[0].done()"
   ]
  },
  {
   "cell_type": "code",
   "execution_count": 17,
   "metadata": {},
   "outputs": [
    {
     "data": {
      "text/plain": [
       "<coroutine object hello at 0x7f65e413b400>"
      ]
     },
     "execution_count": 17,
     "metadata": {},
     "output_type": "execute_result"
    }
   ],
   "source": [
    "futures[0].result()"
   ]
  },
  {
   "cell_type": "code",
   "execution_count": 12,
   "metadata": {},
   "outputs": [
    {
     "name": "stdout",
     "output_type": "stream",
     "text": [
      "True\n",
      "Hello World\n",
      "False\n"
     ]
    },
    {
     "name": "stderr",
     "output_type": "stream",
     "text": [
      "/tmp/ipykernel_1947407/1853200917.py:1: RuntimeWarning: coroutine 'hello' was never awaited\n",
      "  print(asyncio.iscoroutine(hello()))\n",
      "RuntimeWarning: Enable tracemalloc to get the object allocation traceback\n"
     ]
    }
   ],
   "source": [
    "print(asyncio.iscoroutine(hello()))\n",
    "print(asyncio.iscoroutine(sync_hello()))"
   ]
  },
  {
   "cell_type": "code",
   "execution_count": 3,
   "metadata": {},
   "outputs": [],
   "source": [
    "def torch_fn(x):\n",
    "  time.sleep(10)\n",
    "  return x\n",
    "\n",
    "inp = jax.ShapeDtypeStruct((100, 100), jnp.float32)\n",
    "fn = torch2jax_with_vjp(torch_fn, inp, output_shapes=inp)"
   ]
  },
  {
   "cell_type": "code",
   "execution_count": 5,
   "metadata": {},
   "outputs": [
    {
     "name": "stdout",
     "output_type": "stream",
     "text": [
      "Call time: 1.6790e-02 s\n",
      "Calc time: 1.2831e-02 s\n",
      "Block time: 1.5994e+01 s\n"
     ]
    }
   ],
   "source": [
    "shape = (1600, 100)\n",
    "devices = jax.devices(\"cpu\")\n",
    "mesh = Mesh(create_device_mesh((len(devices),), devices), \"x\")\n",
    "shard = jax.NamedSharding(mesh, P(mesh.axis_names))\n",
    "\n",
    "def long_running(shape_):\n",
    "  time.sleep(2)\n",
    "  return np.random.randn(*shape_).astype(np.float32)\n",
    "\n",
    "@functools.partial(jax.jit, static_argnums=(0,))\n",
    "def long_running_jit(shape_):\n",
    "  #a = jnp.ones(round(1e1))\n",
    "  #a = a ** 2\n",
    "  b = jax.pure_callback(lambda shape: long_running(shape), \n",
    "                        jax.ShapeDtypeStruct(shape_, jnp.float32), shape_)\n",
    "  #return a[0] + b\n",
    "  return jnp.ones((), dtype=jnp.int8) + b\n",
    "\n",
    "\n",
    "t = time.time()\n",
    "c = array.make_array_from_callback(\n",
    "  shape, shard, lambda i: long_running_jit((shape[0] // len(devices),) + shape[1:]))\n",
    "t = time.time() - t\n",
    "print(f\"Call time: {t:.4e} s\")\n",
    "\n",
    "t = time.time()\n",
    "d = 2 * c\n",
    "t = time.time() - t\n",
    "print(f\"Calc time: {t:.4e} s\")\n",
    "\n",
    "t = time.time()\n",
    "c.block_until_ready()\n",
    "t = time.time() - t\n",
    "print(f\"Block time: {t:.4e} s\")"
   ]
  },
  {
   "cell_type": "code",
   "execution_count": 103,
   "metadata": {},
   "outputs": [
    {
     "data": {
      "text/plain": [
       "jaxlib.xla_extension.ArrayImpl"
      ]
     },
     "execution_count": 103,
     "metadata": {},
     "output_type": "execute_result"
    }
   ],
   "source": [
    "type(c)"
   ]
  },
  {
   "cell_type": "code",
   "execution_count": 104,
   "metadata": {},
   "outputs": [
    {
     "ename": "",
     "evalue": "",
     "output_type": "error",
     "traceback": [
      "\u001b[1;31mCannot execute code, session has been disposed. Please try restarting the Kernel."
     ]
    },
    {
     "ename": "",
     "evalue": "",
     "output_type": "error",
     "traceback": [
      "\u001b[1;31mCannot execute code, session has been disposed. Please try restarting the Kernel. \n",
      "\u001b[1;31mView Jupyter <a href='command:jupyter.viewOutput'>log</a> for further details."
     ]
    }
   ],
   "source": [
    "t = time.time()\n",
    "c.block_until_ready()\n",
    "t = time.time() - t"
   ]
  },
  {
   "cell_type": "code",
   "execution_count": 83,
   "metadata": {},
   "outputs": [
    {
     "name": "stdout",
     "output_type": "stream",
     "text": [
      "1999.0\n",
      "Call time: 9.3753e-03\n",
      "Done already\n"
     ]
    },
    {
     "data": {
      "text/plain": [
       "Array([[ 0.1762979 ,  1.0097841 ,  0.9234634 , ...,  2.679797  ,\n",
       "         1.3891101 ,  0.24603891],\n",
       "       [-0.11763883,  2.5261579 ,  1.4714091 , ...,  0.09255052,\n",
       "        -0.09681976,  0.3977055 ],\n",
       "       [ 0.9161737 ,  1.7152143 ,  0.70685816, ...,  0.3879246 ,\n",
       "         2.891816  ,  1.4030812 ],\n",
       "       ...,\n",
       "       [ 0.9910855 ,  1.4816061 ,  0.16083038, ...,  1.5364587 ,\n",
       "         1.5826927 ,  0.04808569],\n",
       "       [-1.573318  , -0.19487882,  0.17291683, ...,  2.2511487 ,\n",
       "        -0.3745637 ,  3.6890392 ],\n",
       "       [-1.6377559 ,  1.0804694 , -0.1147145 , ...,  0.05407035,\n",
       "         0.81654763, -1.6515357 ]], dtype=float32)"
      ]
     },
     "execution_count": 83,
     "metadata": {},
     "output_type": "execute_result"
    }
   ],
   "source": [
    "arg = (200, 10)\n",
    "print(long_running_jit.lower(arg).cost_analysis()[\"flops\"])\n",
    "t = time.time()\n",
    "a = long_running_jit(arg)\n",
    "t = time.time() - t\n",
    "print(f\"Call time: {t:.4e}\")\n",
    "print(\"Done already\")\n",
    "a.block_until_ready()"
   ]
  },
  {
   "cell_type": "code",
   "execution_count": 84,
   "metadata": {},
   "outputs": [
    {
     "name": "stdout",
     "output_type": "stream",
     "text": [
      "module @jit_long_running_jit attributes {mhlo.num_partitions = 1 : i32, mhlo.num_replicas = 1 : i32} {\n",
      "  func.func public @main() -> (tensor<200x10xf32> {jax.result_info = \"\", mhlo.layout_mode = \"default\"}) {\n",
      "    %c = stablehlo.constant dense<200> : tensor<i32>\n",
      "    %c_0 = stablehlo.constant dense<10> : tensor<i32>\n",
      "    %c_1 = stablehlo.constant dense<93959129167808> : tensor<i64>\n",
      "    %0 = stablehlo.custom_call @xla_python_cpu_callback(%c_1, %c, %c_0) {api_version = 2 : i32, backend_config = \"93959129167808\", mhlo.sharding = \"{maximal device=0}\", operand_layouts = [dense<> : tensor<0xindex>, dense<> : tensor<0xindex>, dense<> : tensor<0xindex>], result_layouts = [dense<[1, 0]> : tensor<2xindex>]} : (tensor<i64>, tensor<i32>, tensor<i32>) -> tuple<tensor<200x10xf32>>\n",
      "    %1 = stablehlo.get_tuple_element %0[0] : (tuple<tensor<200x10xf32>>) -> tensor<200x10xf32>\n",
      "    %cst = stablehlo.constant dense<1.000000e+00> : tensor<f32>\n",
      "    %2 = stablehlo.broadcast_in_dim %cst, dims = [] : (tensor<f32>) -> tensor<200x10xf32>\n",
      "    %3 = stablehlo.add %2, %1 : tensor<200x10xf32>\n",
      "    return %3 : tensor<200x10xf32>\n",
      "  }\n",
      "}\n",
      "\n",
      "{'flops': 1999.0, 'bytes accessed': 32003.0, 'optimal_seconds': -1.0, 'utilization0{}': 4.0, 'utilization1{}': 2.0, 'bytes accessed0{}': 8003.0, 'bytes accessed1{}': 7999.0, 'bytes accessedout{}': 15999.0, 'utilization2{}': 1.0, 'bytes accessed2{}': -1.0}\n"
     ]
    }
   ],
   "source": [
    "print(long_running_jit.lower((200, 10)).as_text())\n",
    "print(long_running_jit.lower((200, 10)).cost_analysis())"
   ]
  },
  {
   "cell_type": "code",
   "execution_count": 37,
   "metadata": {},
   "outputs": [
    {
     "name": "stdout",
     "output_type": "stream",
     "text": [
      "{}\n"
     ]
    }
   ],
   "source": [
    "def high_flops(a, b):\n",
    "  time.sleep(10.0) \n",
    "  c = a ** 4 - b\n",
    "  return a\n",
    "\n",
    "shape = (1000, 1000)\n",
    "a, b = jnp.ones(shape), jnp.zeros(shape)\n",
    "fn = jax.jit(high_flops)\n",
    "print(fn.lower(a, b).cost_analysis())\n",
    "\n",
    "#fn(jnp.zeros(shape))"
   ]
  },
  {
   "cell_type": "code",
   "execution_count": 213,
   "metadata": {},
   "outputs": [
    {
     "name": "stdout",
     "output_type": "stream",
     "text": [
      "[ShapedArray(float32[], weak_type=True)]\n",
      "[a:f32[] = integer_pow[y=2] b]\n",
      "{ lambda ; a:f32[]. let b:f32[] = integer_pow[y=2] a in (b,) }\n"
     ]
    }
   ],
   "source": [
    "jaxpr = jax.make_jaxpr(high_flops)(3.0)\n",
    "print(jaxpr.in_avals)\n",
    "print(jaxpr.eqns)\n",
    "print(jaxpr)"
   ]
  },
  {
   "cell_type": "code",
   "execution_count": 177,
   "metadata": {},
   "outputs": [],
   "source": [
    "@jax.jit\n",
    "def f():\n",
    "  return fn(jnp.zeros((100, 100)))"
   ]
  },
  {
   "cell_type": "code",
   "execution_count": 178,
   "metadata": {},
   "outputs": [
    {
     "data": {
      "text/plain": [
       "Array([[0., 0., 0., ..., 0., 0., 0.],\n",
       "       [0., 0., 0., ..., 0., 0., 0.],\n",
       "       [0., 0., 0., ..., 0., 0., 0.],\n",
       "       ...,\n",
       "       [0., 0., 0., ..., 0., 0., 0.],\n",
       "       [0., 0., 0., ..., 0., 0., 0.],\n",
       "       [0., 0., 0., ..., 0., 0., 0.]], dtype=float32)"
      ]
     },
     "execution_count": 178,
     "metadata": {},
     "output_type": "execute_result"
    }
   ],
   "source": [
    "f()"
   ]
  },
  {
   "cell_type": "code",
   "execution_count": 42,
   "metadata": {},
   "outputs": [
    {
     "name": "stdout",
     "output_type": "stream",
     "text": [
      "{'flops': 39999.0, 'bytes accessed': 600019.0, 'optimal_seconds': -1.0, 'utilization0{}': 9.000100135803223, 'utilization1{}': 5.0, 'bytes accessed0{}': 200011.0, 'bytes accessed1{}': 159999.0, 'bytes accessedout{}': 240007.0}\n",
      "t = 1.4348e-02\n",
      "t = 1.0001e+01\n"
     ]
    }
   ],
   "source": [
    "def long_running(x):\n",
    "    el = x.reshape(-1)[0]\n",
    "    return jax.pure_callback(lambda x: (time.sleep(10), x)[1], \n",
    "                              jax.ShapeDtypeStruct((), dtype=el.dtype), el)\n",
    "\n",
    "@jax.jit\n",
    "def high_flops(a, b):\n",
    "  #if not isinstance(a, core.Tracer):\n",
    "  #time.sleep(10.0) \n",
    "  c = a ** 4 - b + long_running(a)\n",
    "  #return long_running(a)\n",
    "  return c\n",
    "\n",
    "shape = (100, 100)\n",
    "a, b = jnp.ones(shape), jnp.zeros(shape)\n",
    "#fn = jax.jit(high_flops)\n",
    "fn = high_flops\n",
    "print(fn.lower(a, b).cost_analysis())\n",
    "\n",
    "t = time.time()\n",
    "c = fn(a, b)\n",
    "t = time.time() - t\n",
    "print(f\"{t = :.4e}\")\n",
    "t = time.time()\n",
    "c.block_until_ready()\n",
    "t = time.time() - t\n",
    "print(f\"{t = :.4e}\")"
   ]
  },
  {
   "cell_type": "code",
   "execution_count": 220,
   "metadata": {},
   "outputs": [
    {
     "ename": "ImportError",
     "evalue": "cannot import name 'mhlo' from 'jaxlib.mlir' (unknown location)",
     "output_type": "error",
     "traceback": [
      "\u001b[0;31m---------------------------------------------------------------------------\u001b[0m",
      "\u001b[0;31mImportError\u001b[0m                               Traceback (most recent call last)",
      "Cell \u001b[0;32mIn[220], line 1\u001b[0m\n\u001b[0;32m----> 1\u001b[0m \u001b[38;5;28;01mfrom\u001b[39;00m \u001b[38;5;21;01mjaxlib\u001b[39;00m\u001b[38;5;21;01m.\u001b[39;00m\u001b[38;5;21;01mmlir\u001b[39;00m \u001b[38;5;28;01mimport\u001b[39;00m mhlo\n",
      "\u001b[0;31mImportError\u001b[0m: cannot import name 'mhlo' from 'jaxlib.mlir' (unknown location)"
     ]
    }
   ],
   "source": [
    "from jaxlib.mlir import mhlo"
   ]
  },
  {
   "cell_type": "markdown",
   "metadata": {},
   "source": [
    "# Making a array with async dispatch"
   ]
  },
  {
   "cell_type": "code",
   "execution_count": 129,
   "metadata": {},
   "outputs": [],
   "source": [
    "shape, dtype = (100, 100), jnp.float32\n",
    "data = np.random.randn(*shape).astype(dtype)\n",
    "shapedarray = ShapedArray(shape, dtype)\n",
    "shard = sharding.SingleDeviceSharding(jax.devices(\"cpu\")[0])"
   ]
  },
  {
   "cell_type": "code",
   "execution_count": 137,
   "metadata": {},
   "outputs": [],
   "source": [
    "def hcb(s):\n",
    "  #await asyncio.sleep(10)\n",
    "  time.sleep(10)\n",
    "  return np.random.randn(*(100, 100)).astype(np.float32)\n",
    "\n",
    "@jax.jit\n",
    "def make_array():\n",
    "  return jax.pure_callback(hcb, jax.ShapeDtypeStruct((100, 100), jnp.float32), jnp.ones(()))"
   ]
  },
  {
   "cell_type": "code",
   "execution_count": 138,
   "metadata": {},
   "outputs": [],
   "source": [
    "comp = make_array.lower().compile()"
   ]
  },
  {
   "cell_type": "code",
   "execution_count": 141,
   "metadata": {},
   "outputs": [],
   "source": [
    "a = comp()"
   ]
  },
  {
   "cell_type": "code",
   "execution_count": 223,
   "metadata": {},
   "outputs": [],
   "source": [
    "from jaxlib.mlir.dialects import mhlo"
   ]
  },
  {
   "cell_type": "code",
   "execution_count": 126,
   "metadata": {},
   "outputs": [],
   "source": [
    "a = make_array()"
   ]
  },
  {
   "cell_type": "code",
   "execution_count": 75,
   "metadata": {},
   "outputs": [],
   "source": [
    "@jax.jit\n",
    "def fn(x):\n",
    "  return x ** 5.5"
   ]
  },
  {
   "cell_type": "code",
   "execution_count": 221,
   "metadata": {},
   "outputs": [
    {
     "ename": "ImportError",
     "evalue": "cannot import name 'mhlo' from 'jax.interpreters' (/home/rdyro/Projects/jax/jax/interpreters/__init__.py)",
     "output_type": "error",
     "traceback": [
      "\u001b[0;31m---------------------------------------------------------------------------\u001b[0m",
      "\u001b[0;31mImportError\u001b[0m                               Traceback (most recent call last)",
      "Cell \u001b[0;32mIn[221], line 1\u001b[0m\n\u001b[0;32m----> 1\u001b[0m \u001b[38;5;28;01mfrom\u001b[39;00m \u001b[38;5;21;01mjax\u001b[39;00m\u001b[38;5;21;01m.\u001b[39;00m\u001b[38;5;21;01minterpreters\u001b[39;00m \u001b[38;5;28;01mimport\u001b[39;00m mhlo \u001b[38;5;28;01mas\u001b[39;00m hlo\n\u001b[1;32m      2\u001b[0m \u001b[38;5;66;03m#mhlo.SendOp\u001b[39;00m\n",
      "\u001b[0;31mImportError\u001b[0m: cannot import name 'mhlo' from 'jax.interpreters' (/home/rdyro/Projects/jax/jax/interpreters/__init__.py)"
     ]
    }
   ],
   "source": [
    "#from jax.interpreters import mhlo as hlo\n",
    "#mhlo.SendOp"
   ]
  },
  {
   "cell_type": "code",
   "execution_count": 146,
   "metadata": {},
   "outputs": [
    {
     "data": {
      "text/plain": [
       "jaxlib.xla_extension.ArrayImpl"
      ]
     },
     "execution_count": 146,
     "metadata": {},
     "output_type": "execute_result"
    }
   ],
   "source": [
    "type(jnp.zeros(100))"
   ]
  },
  {
   "cell_type": "code",
   "execution_count": 148,
   "metadata": {},
   "outputs": [],
   "source": [
    "from jaxlib.xla_extension import ArrayImpl"
   ]
  },
  {
   "cell_type": "code",
   "execution_count": 154,
   "metadata": {},
   "outputs": [],
   "source": [
    "from jaxlib import xla_extension as xe"
   ]
  },
  {
   "cell_type": "code",
   "execution_count": null,
   "metadata": {},
   "outputs": [],
   "source": [
    "jax.Array"
   ]
  },
  {
   "cell_type": "code",
   "execution_count": 144,
   "metadata": {},
   "outputs": [
    {
     "ename": "TypeError",
     "evalue": "Array() takes no arguments",
     "output_type": "error",
     "traceback": [
      "\u001b[0;31m---------------------------------------------------------------------------\u001b[0m",
      "\u001b[0;31mTypeError\u001b[0m                                 Traceback (most recent call last)",
      "Cell \u001b[0;32mIn[144], line 1\u001b[0m\n\u001b[0;32m----> 1\u001b[0m \u001b[43mjax\u001b[49m\u001b[38;5;241;43m.\u001b[39;49m\u001b[43mArray\u001b[49m\u001b[43m(\u001b[49m\u001b[43mshape\u001b[49m\u001b[43m,\u001b[49m\u001b[43m \u001b[49m\u001b[43mjnp\u001b[49m\u001b[38;5;241;43m.\u001b[39;49m\u001b[43mfloat32\u001b[49m\u001b[43m)\u001b[49m\n",
      "\u001b[0;31mTypeError\u001b[0m: Array() takes no arguments"
     ]
    }
   ],
   "source": [
    "jax.Array(shape, jnp.float32)\n"
   ]
  },
  {
   "cell_type": "code",
   "execution_count": 80,
   "metadata": {},
   "outputs": [],
   "source": [
    "from jax.interpreters import xla\n",
    "\n",
    "xla.apply_primitive()"
   ]
  },
  {
   "cell_type": "code",
   "execution_count": 124,
   "metadata": {},
   "outputs": [
    {
     "data": {
      "text/plain": [
       "Array([[ 0.5237842 , -0.13295816,  0.8163282 , ...,  1.0272064 ,\n",
       "        -1.0020953 , -2.2172556 ],\n",
       "       [-0.21399932, -0.82629573,  0.28917634, ...,  1.138213  ,\n",
       "        -1.4303926 ,  0.22079563],\n",
       "       [ 0.7029308 ,  0.76928127, -0.67187524, ..., -0.7529223 ,\n",
       "         0.07898451,  0.49682337],\n",
       "       ...,\n",
       "       [ 1.1057003 , -0.51633984, -0.6576222 , ..., -0.99347425,\n",
       "         0.69257563,  1.2636473 ],\n",
       "       [-0.4952039 , -1.3495808 ,  0.14881878, ..., -2.272792  ,\n",
       "        -1.4284267 , -0.7063522 ],\n",
       "       [ 0.5917428 ,  0.58725923,  1.2979989 , ..., -0.978442  ,\n",
       "         0.14061783,  2.0366719 ]], dtype=float32)"
      ]
     },
     "execution_count": 124,
     "metadata": {},
     "output_type": "execute_result"
    }
   ],
   "source": [
    "def dcb(index):\n",
    "  time.sleep(10)\n",
    "  return np.random.randn(*(100, 100)).astype(np.float32)\n",
    "\n",
    "array.make_array_from_callback(shape, shard, dcb)"
   ]
  },
  {
   "cell_type": "code",
   "execution_count": 121,
   "metadata": {},
   "outputs": [
    {
     "data": {
      "text/plain": [
       "Array([[-0.8177348 ,  1.6091626 , -0.77163905, ...,  0.4970985 ,\n",
       "         1.2692783 ,  1.2193668 ],\n",
       "       [ 0.71688765,  0.7734844 ,  0.6703563 , ...,  1.3276428 ,\n",
       "         0.24779364,  0.6105239 ],\n",
       "       [-2.158977  ,  1.0940106 ,  0.18226077, ...,  1.6948227 ,\n",
       "        -0.19424263, -0.732435  ],\n",
       "       ...,\n",
       "       [-0.06510899, -0.9032963 , -1.3804721 , ...,  1.3381408 ,\n",
       "        -0.06489277, -0.02748343],\n",
       "       [ 0.28411415,  0.38746634, -0.03548809, ...,  0.06469295,\n",
       "        -1.0033218 ,  0.3748052 ],\n",
       "       [-0.4197347 ,  0.5445934 , -0.03203459, ...,  1.2798468 ,\n",
       "        -0.62778944,  2.0478637 ]], dtype=float32)"
      ]
     },
     "execution_count": 121,
     "metadata": {},
     "output_type": "execute_result"
    }
   ],
   "source": [
    "ArrayImpl(shapedarray, shard, cast(Sequence[ArrayImpl], [jnp.asarray(data)]), committed=True, _skip_checks=True)"
   ]
  },
  {
   "cell_type": "markdown",
   "metadata": {},
   "source": [
    "# Communicating between hosts"
   ]
  },
  {
   "cell_type": "code",
   "execution_count": 56,
   "metadata": {},
   "outputs": [],
   "source": [
    "vals = broadcast_one_to_all(np.frombuffer(uuid4().bytes, dtype=np.uint32))"
   ]
  },
  {
   "cell_type": "code",
   "execution_count": 62,
   "metadata": {},
   "outputs": [
    {
     "data": {
      "text/plain": [
       "'3f29ff2d-0240-4753-8e15-0ebac623fa6b'"
      ]
     },
     "execution_count": 62,
     "metadata": {},
     "output_type": "execute_result"
    }
   ],
   "source": [
    "str(uuid.UUID(bytes=vals.tobytes()))"
   ]
  },
  {
   "cell_type": "code",
   "execution_count": 59,
   "metadata": {},
   "outputs": [
    {
     "ename": "TypeError",
     "evalue": "UUID objects are immutable",
     "output_type": "error",
     "traceback": [
      "\u001b[0;31m---------------------------------------------------------------------------\u001b[0m",
      "\u001b[0;31mTypeError\u001b[0m                                 Traceback (most recent call last)",
      "Cell \u001b[0;32mIn[59], line 1\u001b[0m\n\u001b[0;32m----> 1\u001b[0m \u001b[43mu\u001b[49m\u001b[38;5;241;43m.\u001b[39;49m\u001b[43mbytes\u001b[49m \u001b[38;5;241m=\u001b[39m vals\u001b[38;5;241m.\u001b[39mtobytes()\n",
      "File \u001b[0;32m~/.pyenv/versions/3.11.9/lib/python3.11/uuid.py:278\u001b[0m, in \u001b[0;36mUUID.__setattr__\u001b[0;34m(self, name, value)\u001b[0m\n\u001b[1;32m    277\u001b[0m \u001b[38;5;28;01mdef\u001b[39;00m \u001b[38;5;21m__setattr__\u001b[39m(\u001b[38;5;28mself\u001b[39m, name, value):\n\u001b[0;32m--> 278\u001b[0m     \u001b[38;5;28;01mraise\u001b[39;00m \u001b[38;5;167;01mTypeError\u001b[39;00m(\u001b[38;5;124m'\u001b[39m\u001b[38;5;124mUUID objects are immutable\u001b[39m\u001b[38;5;124m'\u001b[39m)\n",
      "\u001b[0;31mTypeError\u001b[0m: UUID objects are immutable"
     ]
    }
   ],
   "source": [
    "u.bytes = vals.tobytes()"
   ]
  },
  {
   "cell_type": "code",
   "execution_count": null,
   "metadata": {},
   "outputs": [],
   "source": [
    "u"
   ]
  },
  {
   "cell_type": "code",
   "execution_count": 25,
   "metadata": {},
   "outputs": [],
   "source": [
    "d = create_device_mesh((8,), jax.devices(\"cpu\"))"
   ]
  },
  {
   "cell_type": "code",
   "execution_count": null,
   "metadata": {},
   "outputs": [],
   "source": []
  },
  {
   "cell_type": "code",
   "execution_count": null,
   "metadata": {},
   "outputs": [],
   "source": [
    "@functools.partial(shard_map, mesh=create_device_mesh(jax.devices(\"cpu\")"
   ]
  },
  {
   "cell_type": "code",
   "execution_count": 18,
   "metadata": {},
   "outputs": [],
   "source": [
    "@functools.partial(jax.pmap, axis_name=\"x\")\n",
    "def get_unique_val(salt: None):\n",
    "  if salt is None:\n",
    "    salt = jnp.ones((jax.process_count(),))\n",
    "  key = jax.pure_callback(lambda: np.array(time.time_ns() % 2 ** 31, dtype=np.int32), \n",
    "                          jax.ShapeDtypeStruct((), jnp.int32))\n",
    "  key = key + salt.astype(jnp.int32)\n",
    "  key_all = lax.broadcast(key, (jax.process_count(),))\n",
    "  return key_all"
   ]
  },
  {
   "cell_type": "code",
   "execution_count": 19,
   "metadata": {},
   "outputs": [
    {
     "ename": "ValueError",
     "evalue": "pmap wrapped function must be passed at least one argument containing an array, got empty *args=() and **kwargs={}",
     "output_type": "error",
     "traceback": [
      "\u001b[0;31m---------------------------------------------------------------------------\u001b[0m",
      "\u001b[0;31mValueError\u001b[0m                                Traceback (most recent call last)",
      "Cell \u001b[0;32mIn[19], line 1\u001b[0m\n\u001b[0;32m----> 1\u001b[0m \u001b[43mget_unique_val\u001b[49m\u001b[43m(\u001b[49m\u001b[43m)\u001b[49m\n",
      "    \u001b[0;31m[... skipping hidden 3 frame]\u001b[0m\n",
      "File \u001b[0;32m~/Projects/jax/jax/_src/api.py:1246\u001b[0m, in \u001b[0;36m_mapped_axis_size\u001b[0;34m(fn, tree, vals, dims, name)\u001b[0m\n\u001b[1;32m   1244\u001b[0m \u001b[38;5;28;01mif\u001b[39;00m \u001b[38;5;129;01mnot\u001b[39;00m vals:\n\u001b[1;32m   1245\u001b[0m   args, kwargs \u001b[38;5;241m=\u001b[39m tree_unflatten(tree, vals)\n\u001b[0;32m-> 1246\u001b[0m   \u001b[38;5;28;01mraise\u001b[39;00m \u001b[38;5;167;01mValueError\u001b[39;00m(\n\u001b[1;32m   1247\u001b[0m       \u001b[38;5;124mf\u001b[39m\u001b[38;5;124m\"\u001b[39m\u001b[38;5;132;01m{\u001b[39;00mname\u001b[38;5;132;01m}\u001b[39;00m\u001b[38;5;124m wrapped function must be passed at least one argument \u001b[39m\u001b[38;5;124m\"\u001b[39m\n\u001b[1;32m   1248\u001b[0m       \u001b[38;5;124mf\u001b[39m\u001b[38;5;124m\"\u001b[39m\u001b[38;5;124mcontaining an array, got empty *args=\u001b[39m\u001b[38;5;132;01m{\u001b[39;00margs\u001b[38;5;132;01m}\u001b[39;00m\u001b[38;5;124m and **kwargs=\u001b[39m\u001b[38;5;132;01m{\u001b[39;00mkwargs\u001b[38;5;132;01m}\u001b[39;00m\u001b[38;5;124m\"\u001b[39m\n\u001b[1;32m   1249\u001b[0m   )\n\u001b[1;32m   1251\u001b[0m \u001b[38;5;28;01mdef\u001b[39;00m \u001b[38;5;21m_get_axis_size\u001b[39m(name: \u001b[38;5;28mstr\u001b[39m, shape: \u001b[38;5;28mtuple\u001b[39m[core\u001b[38;5;241m.\u001b[39mAxisSize, \u001b[38;5;241m.\u001b[39m\u001b[38;5;241m.\u001b[39m\u001b[38;5;241m.\u001b[39m], axis: \u001b[38;5;28mint\u001b[39m\n\u001b[1;32m   1252\u001b[0m                    ) \u001b[38;5;241m-\u001b[39m\u001b[38;5;241m>\u001b[39m core\u001b[38;5;241m.\u001b[39mAxisSize:\n\u001b[1;32m   1253\u001b[0m   \u001b[38;5;28;01mtry\u001b[39;00m:\n",
      "\u001b[0;31mValueError\u001b[0m: pmap wrapped function must be passed at least one argument containing an array, got empty *args=() and **kwargs={}"
     ]
    }
   ],
   "source": [
    "get_unique_val()"
   ]
  },
  {
   "cell_type": "code",
   "execution_count": null,
   "metadata": {},
   "outputs": [],
   "source": []
  }
 ],
 "metadata": {
  "kernelspec": {
   "display_name": "devel",
   "language": "python",
   "name": "python3"
  },
  "language_info": {
   "codemirror_mode": {
    "name": "ipython",
    "version": 3
   },
   "file_extension": ".py",
   "mimetype": "text/x-python",
   "name": "python",
   "nbconvert_exporter": "python",
   "pygments_lexer": "ipython3",
   "version": "3.11.9"
  }
 },
 "nbformat": 4,
 "nbformat_minor": 2
}
