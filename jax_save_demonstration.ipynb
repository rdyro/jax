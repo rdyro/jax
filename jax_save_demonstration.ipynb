{
 "cells": [
  {
   "cell_type": "markdown",
   "metadata": {},
   "source": [
    "# A proposal for defining `jax.save` and `jax.load`\n",
    "... or perhaps something like `jax.save_to_dir` and `jax.load_from_dir`\n",
    "\n",
    "### Objectives for the new API:\n",
    "\n",
    "The new API should be:\n",
    "- simple\n",
    "- strict by default (no pickle), but allow pickle\n",
    "    - but allow storing in-built values like numbers (e.g., int, float), strings and bytes\n",
    "- not be pickle, should be significantly orthogonal to what pickle does\n",
    "    - NOTE: the effort to support some pickling JAX arrays is also important\n",
    "- provide the ability for partial reads\n",
    "- allow to read and write arrays in a distributed sharded context\n",
    "    - this is already supported with tensorstore (and Yash's low-level API)\n",
    "- have an `async` version for both save and load\n",
    "- have the ability to read in just the structure of the data\n",
    "- have a flat storage of leaf data that the user can access themselves\n",
    "- support remote reading and writing from/to cloud storage, GCS and S3 at a minimum"
   ]
  },
  {
   "cell_type": "code",
   "execution_count": 25,
   "metadata": {},
   "outputs": [],
   "source": [
    "import tempfile\n",
    "from pathlib import Path\n",
    "from subprocess import check_output\n",
    "from pprint import pprint\n",
    "\n",
    "import jax\n",
    "from jax.experimental.array_serialization.new_api import save, load, load_pytree"
   ]
  },
  {
   "cell_type": "code",
   "execution_count": 26,
   "metadata": {},
   "outputs": [],
   "source": [
    "data = [\"hello\", {\"world\": [\"!\", (1, 2)]}]"
   ]
  },
  {
   "cell_type": "code",
   "execution_count": 33,
   "metadata": {},
   "outputs": [
    {
     "name": "stdout",
     "output_type": "stream",
     "text": [
      "The `pytreedef.json` is a human-readable pytree stored format\n",
      "{\n",
      "  \"__jax_tree_repr\": {\n",
      "    \"node_type\": \"builtins.list\",\n",
      "    \"node_data_ref\": null,\n",
      "    \"children\": [\n",
      "      {\n",
      "        \"node_type\": \"leaf\",\n",
      "        \"node_data_ref\": null,\n",
      "        \"children\": [],\n",
      "        \"leaf_id\": \"str -> 1d02b1a4-b93e-456f-bb43-0a96f522a751\"\n",
      "      },\n",
      "      {\n",
      "        \"node_type\": \"builtins.dict\",\n",
      "        \"node_data_ref\": [\n",
      "          \"world\"\n",
      "        ],\n",
      "        \"children\": [\n",
      "          {\n",
      "            \"node_type\": \"builtins.list\",\n",
      "            \"node_data_ref\": null,\n",
      "            \"children\": [\n",
      "              {\n",
      "                \"node_type\": \"leaf\",\n",
      "                \"node_data_ref\": null,\n",
      "                \"children\": [],\n",
      "                \"leaf_id\": \"str -> fb337e95-5bca-4abb-baa9-9f202bf384ec\"\n",
      "              },\n",
      "              {\n",
      "                \"node_type\": \"builtins.tuple\",\n",
      "                \"node_data_ref\": null,\n",
      "                \"children\": [\n",
      "                  {\n",
      "                    \"node_type\": \"leaf\",\n",
      "                    \"node_data_ref\": null,\n",
      "                    \"children\": [],\n",
      "                    \"leaf_id\": \"int -> ee60a277-3f19-4ab8-8dac-d0f19bc4be25\"\n",
      "                  },\n",
      "                  {\n",
      "                    \"node_type\": \"leaf\",\n",
      "                    \"node_data_ref\": null,\n",
      "                    \"children\": [],\n",
      "                    \"leaf_id\": \"int -> 7ec234e3-5b47-4bc6-83c2-f80880b60c50\"\n",
      "                  }\n",
      "                ]\n",
      "              }\n",
      "            ]\n",
      "          }\n",
      "        ]\n",
      "      }\n",
      "    ]\n",
      "  },\n",
      "  \"__jax_leaf_ids\": [\n",
      "    \"str -> 1d02b1a4-b93e-456f-bb43-0a96f522a751\",\n",
      "    \"str -> fb337e95-5bca-4abb-baa9-9f202bf384ec\",\n",
      "    \"int -> ee60a277-3f19-4ab8-8dac-d0f19bc4be25\",\n",
      "    \"int -> 7ec234e3-5b47-4bc6-83c2-f80880b60c50\"\n",
      "  ]\n",
      "}\n",
      "--------------------------------------------------------------------------------\n",
      "The leaf data is organized in a flat directory under `leaf_data`\n",
      "\u001b[01;34m/tmp/tmpnsq6ztfb\u001b[0m\n",
      "├── \u001b[01;34mleaf_data\u001b[0m\n",
      "│   ├── \u001b[00m1d02b1a4-b93e-456f-bb43-0a96f522a751.json\u001b[0m\n",
      "│   ├── \u001b[00m7ec234e3-5b47-4bc6-83c2-f80880b60c50.json\u001b[0m\n",
      "│   ├── \u001b[00mee60a277-3f19-4ab8-8dac-d0f19bc4be25.json\u001b[0m\n",
      "│   └── \u001b[00mfb337e95-5bca-4abb-baa9-9f202bf384ec.json\u001b[0m\n",
      "└── \u001b[00mpytreedef.json\u001b[0m\n",
      "\n",
      "2 directories, 5 files\n",
      "\n",
      "--------------------------------------------------------------------------------\n",
      "PyTree Structure:\n",
      "['str -> 1d02b1a4-b93e-456f-bb43-0a96f522a751',\n",
      " {'world': ['str -> fb337e95-5bca-4abb-baa9-9f202bf384ec',\n",
      "            ('int -> ee60a277-3f19-4ab8-8dac-d0f19bc4be25',\n",
      "             'int -> 7ec234e3-5b47-4bc6-83c2-f80880b60c50')]}]\n",
      "--------------------------------------------------------------------------------\n",
      "Partial read of data:\n",
      "[None, {'world': [None, (1, 2)]}]\n"
     ]
    }
   ],
   "source": [
    "with tempfile.TemporaryDirectory() as tmpdir:\n",
    "  save(data, tmpdir)\n",
    "  print(\"The `pytreedef.json` is a human-readable pytree stored format\")\n",
    "  print((Path(tmpdir) / \"pytreedef.json\").read_text())\n",
    "  print(\"-\" * 80)\n",
    "  print(\"The leaf data is organized in a flat directory under `leaf_data`\")\n",
    "  print(check_output([\"tree\", tmpdir]).decode()) \n",
    "  \n",
    "  # read only the data structure\n",
    "  print(\"-\" * 80)\n",
    "  print(\"PyTree Structure:\")\n",
    "  pytree_structure = load_pytree(tmpdir)\n",
    "  pprint(pytree_structure)\n",
    "  \n",
    "  # read only integers back\n",
    "  print(\"-\" * 80)\n",
    "  print(\"Partial read of data:\")\n",
    "  pytree_structure = jax.tree.map(lambda x: None if x.startswith(\"str\") else x, pytree_structure)\n",
    "  new_data = load(tmpdir, pytree=pytree_structure)\n",
    "  pprint(new_data)"
   ]
  },
  {
   "cell_type": "markdown",
   "metadata": {},
   "source": [
    "## Allowing custom nodes with `pickle`\n",
    "\n",
    "TODO"
   ]
  },
  {
   "cell_type": "markdown",
   "metadata": {},
   "source": [
    "## Best-effort reading when pickled objects are no longer available\n",
    "\n",
    "TODO"
   ]
  }
 ],
 "metadata": {
  "kernelspec": {
   "display_name": "devel",
   "language": "python",
   "name": "python3"
  },
  "language_info": {
   "codemirror_mode": {
    "name": "ipython",
    "version": 3
   },
   "file_extension": ".py",
   "mimetype": "text/x-python",
   "name": "python",
   "nbconvert_exporter": "python",
   "pygments_lexer": "ipython3",
   "version": "3.11.9"
  }
 },
 "nbformat": 4,
 "nbformat_minor": 2
}
