{
 "cells": [
  {
   "cell_type": "markdown",
   "metadata": {},
   "source": [
    "# A proposal for defining `jax.save` and `jax.load`\n",
    "... or perhaps something like `jax.save_to_dir` and `jax.load_from_dir`\n",
    "\n",
    "### Objectives for the new API:\n",
    "\n",
    "The new API should be:\n",
    "- simple\n",
    "- strict by default (no pickle), but allow pickle\n",
    "    - but allow storing in-built values like numbers (e.g., int, float), strings and bytes\n",
    "- not be pickle, should be significantly orthogonal to what pickle does\n",
    "    - NOTE: the effort to support some pickling JAX arrays is also important\n",
    "- provide the ability for partial reads\n",
    "- allow to read and write arrays in a distributed sharded context\n",
    "    - this is already supported with tensorstore (and Yash's low-level API)\n",
    "- have an `async` version for both save and load\n",
    "- have the ability to read in just the structure of the data\n",
    "- have a flat storage of leaf data that the user can access themselves\n",
    "- support remote reading and writing from/to cloud storage, GCS and S3 at a minimum"
   ]
  },
  {
   "cell_type": "code",
   "execution_count": 1,
   "metadata": {},
   "outputs": [],
   "source": [
    "import tempfile\n",
    "from pathlib import Path\n",
    "from subprocess import check_output\n",
    "from pprint import pprint\n",
    "from dataclasses import dataclass\n",
    "import functools\n",
    "from typing import Any\n",
    "import pickle\n",
    "\n",
    "import jax\n",
    "from jax.experimental.array_serialization.new_api import save, load, load_pytree\n",
    "from jax import numpy as jnp, random"
   ]
  },
  {
   "cell_type": "code",
   "execution_count": 2,
   "metadata": {},
   "outputs": [],
   "source": [
    "data = [\"hello\", {\"world\": [\"!\", (1, 2)]}]"
   ]
  },
  {
   "cell_type": "code",
   "execution_count": 3,
   "metadata": {},
   "outputs": [],
   "source": [
    "tmpdir = tempfile.TemporaryDirectory().name\n",
    "save(data, tmpdir)"
   ]
  },
  {
   "cell_type": "code",
   "execution_count": 4,
   "metadata": {},
   "outputs": [
    {
     "name": "stdout",
     "output_type": "stream",
     "text": [
      "The `pytreedef.json` is a human-readable pytree stored format\n",
      "{\n",
      "  \"__jax_tree_repr\": {\n",
      "    \"node_type\": \"builtins.list\",\n",
      "    \"node_data_ref\": null,\n",
      "    \"children\": [\n",
      "      {\n",
      "        \"node_type\": \"leaf\",\n",
      "        \"node_data_ref\": null,\n",
      "        \"children\": [],\n",
      "        \"leaf_id\": \"str -> 096e251b-5517-4ea0-98c9-5c66312bf339\"\n",
      "      },\n",
      "      {\n",
      "        \"node_type\": \"builtins.dict\",\n",
      "        \"node_data_ref\": [\n",
      "          \"world\"\n",
      "        ],\n",
      "        \"children\": [\n",
      "          {\n",
      "            \"node_type\": \"builtins.list\",\n",
      "            \"node_data_ref\": null,\n",
      "            \"children\": [\n",
      "              {\n",
      "                \"node_type\": \"leaf\",\n",
      "                \"node_data_ref\": null,\n",
      "                \"children\": [],\n",
      "                \"leaf_id\": \"str -> 5e571888-aa19-4828-b3d0-e6e10651ef05\"\n",
      "              },\n",
      "              {\n",
      "                \"node_type\": \"builtins.tuple\",\n",
      "                \"node_data_ref\": null,\n",
      "                \"children\": [\n",
      "                  {\n",
      "                    \"node_type\": \"leaf\",\n",
      "                    \"node_data_ref\": null,\n",
      "                    \"children\": [],\n",
      "                    \"leaf_id\": \"int -> c61da192-1e1a-481a-ace3-3fcd749ddebc\"\n",
      "                  },\n",
      "                  {\n",
      "                    \"node_type\": \"leaf\",\n",
      "                    \"node_data_ref\": null,\n",
      "                    \"children\": [],\n",
      "                    \"leaf_id\": \"int -> 7f6b36e2-a02c-4288-a085-5ad8a88309c5\"\n",
      "                  }\n",
      "                ]\n",
      "              }\n",
      "            ]\n",
      "          }\n",
      "        ]\n",
      "      }\n",
      "    ]\n",
      "  },\n",
      "  \"__jax_leaf_ids\": [\n",
      "    \"str -> 096e251b-5517-4ea0-98c9-5c66312bf339\",\n",
      "    \"str -> 5e571888-aa19-4828-b3d0-e6e10651ef05\",\n",
      "    \"int -> c61da192-1e1a-481a-ace3-3fcd749ddebc\",\n",
      "    \"int -> 7f6b36e2-a02c-4288-a085-5ad8a88309c5\"\n",
      "  ]\n",
      "}\n",
      "--------------------------------------------------------------------------------\n",
      "The leaf data is organized in a flat directory under `leaf_data`\n",
      "\u001b[01;34m/tmp/tmp644ghp3f\u001b[0m\n",
      "├── \u001b[01;34mleaf_data\u001b[0m\n",
      "│   ├── \u001b[00m096e251b-5517-4ea0-98c9-5c66312bf339.json\u001b[0m\n",
      "│   ├── \u001b[00m5e571888-aa19-4828-b3d0-e6e10651ef05.json\u001b[0m\n",
      "│   ├── \u001b[00m7f6b36e2-a02c-4288-a085-5ad8a88309c5.json\u001b[0m\n",
      "│   └── \u001b[00mc61da192-1e1a-481a-ace3-3fcd749ddebc.json\u001b[0m\n",
      "└── \u001b[00mpytreedef.json\u001b[0m\n",
      "\n",
      "2 directories, 5 files\n",
      "\n"
     ]
    }
   ],
   "source": [
    "print(\"The `pytreedef.json` is a human-readable pytree stored format\")\n",
    "print((Path(tmpdir) / \"pytreedef.json\").read_text())\n",
    "print(\"-\" * 80)\n",
    "print(\"The leaf data is organized in a flat directory under `leaf_data`\")\n",
    "print(check_output([\"tree\", tmpdir]).decode()) "
   ]
  },
  {
   "cell_type": "code",
   "execution_count": 5,
   "metadata": {},
   "outputs": [
    {
     "name": "stdout",
     "output_type": "stream",
     "text": [
      "--------------------------------------------------------------------------------\n",
      "PyTree Structure:\n",
      "['str -> 096e251b-5517-4ea0-98c9-5c66312bf339',\n",
      " {'world': ['str -> 5e571888-aa19-4828-b3d0-e6e10651ef05',\n",
      "            ('int -> c61da192-1e1a-481a-ace3-3fcd749ddebc',\n",
      "             'int -> 7f6b36e2-a02c-4288-a085-5ad8a88309c5')]}]\n"
     ]
    }
   ],
   "source": [
    "# read only the data structure\n",
    "print(\"-\" * 80)\n",
    "print(\"PyTree Structure:\")\n",
    "pytree_structure = load_pytree(tmpdir)\n",
    "pprint(pytree_structure)"
   ]
  },
  {
   "cell_type": "code",
   "execution_count": 6,
   "metadata": {},
   "outputs": [
    {
     "name": "stdout",
     "output_type": "stream",
     "text": [
      "--------------------------------------------------------------------------------\n",
      "Partial read of data:\n",
      "[None, {'world': [None, (1, 2)]}]\n"
     ]
    }
   ],
   "source": [
    "# read only integers back\n",
    "print(\"-\" * 80)\n",
    "print(\"Partial read of data:\")\n",
    "pytree_structure = jax.tree.map(lambda x: None if x.startswith(\"str\") else x, pytree_structure)\n",
    "new_data = load(tmpdir, pytree=pytree_structure)\n",
    "pprint(new_data)"
   ]
  },
  {
   "cell_type": "markdown",
   "metadata": {},
   "source": [
    "## Allowing custom nodes with `pickle`"
   ]
  },
  {
   "cell_type": "code",
   "execution_count": 7,
   "metadata": {},
   "outputs": [
    {
     "name": "stdout",
     "output_type": "stream",
     "text": [
      "Correctly refusing to serialize custom objects\n",
      "Serialized with pickle\n",
      "Extra folder: `node_data`\n",
      "\u001b[01;34m/tmp/tmpfqef7uc9\u001b[0m\n",
      "├── \u001b[01;34mleaf_data\u001b[0m\n",
      "│   ├── \u001b[00m21d7949d-d3d5-44c3-9ff7-39ed443ccc77.json\u001b[0m\n",
      "│   ├── \u001b[01;34mc1b70b87-ef9a-44b6-a99a-16fbe215aaf1.tensorstore\u001b[0m\n",
      "│   └── \u001b[00me6949b9c-0df2-4ccf-9d06-b1c7829e8755.json\u001b[0m\n",
      "├── \u001b[01;34mnode_data\u001b[0m\n",
      "│   └── \u001b[00maf10018a-94f8-4f82-ad6e-0d3661502979.pickle\u001b[0m\n",
      "└── \u001b[00mpytreedef.json\u001b[0m\n",
      "\n",
      "4 directories, 4 files\n",
      "\n",
      "--------------------------------------------------------------------------------\n",
      "{\n",
      "  \"__jax_tree_repr\": {\n",
      "    \"node_type\": \"builtins.dict\",\n",
      "    \"node_data_ref\": [\n",
      "      \"a\",\n",
      "      \"dataclass\"\n",
      "    ],\n",
      "    \"children\": [\n",
      "      {\n",
      "        \"node_type\": \"leaf\",\n",
      "        \"node_data_ref\": null,\n",
      "        \"children\": [],\n",
      "        \"leaf_id\": \"int -> e6949b9c-0df2-4ccf-9d06-b1c7829e8755\"\n",
      "      },\n",
      "      {\n",
      "        \"node_type\": \"__main__.D\",\n",
      "        \"node_data_ref\": \"af10018a-94f8-4f82-ad6e-0d3661502979\",\n",
      "        \"children\": [\n",
      "          {\n",
      "            \"node_type\": \"leaf\",\n",
      "            \"node_data_ref\": null,\n",
      "            \"children\": [],\n",
      "            \"leaf_id\": \"float32[7] -> c1b70b87-ef9a-44b6-a99a-16fbe215aaf1\"\n",
      "          },\n",
      "          {\n",
      "            \"node_type\": \"leaf\",\n",
      "            \"node_data_ref\": null,\n",
      "            \"children\": [],\n",
      "            \"leaf_id\": \"int -> 21d7949d-d3d5-44c3-9ff7-39ed443ccc77\"\n",
      "          }\n",
      "        ]\n",
      "      }\n",
      "    ]\n",
      "  },\n",
      "  \"__jax_leaf_ids\": [\n",
      "    \"int -> e6949b9c-0df2-4ccf-9d06-b1c7829e8755\",\n",
      "    \"float32[7] -> c1b70b87-ef9a-44b6-a99a-16fbe215aaf1\",\n",
      "    \"int -> 21d7949d-d3d5-44c3-9ff7-39ed443ccc77\"\n",
      "  ]\n",
      "}\n"
     ]
    }
   ],
   "source": [
    "#@functools.partial(jax.tree_util.register_dataclass, data_fields=[\"a\", \"c\"], \n",
    "#                   meta_fields=[\"op\"])\n",
    "@jax.tree_util.register_pytree_node_class\n",
    "@dataclass\n",
    "class D:\n",
    "  op: str\n",
    "  a: Any\n",
    "  c: int\n",
    "\n",
    "  def tree_flatten(self):\n",
    "    return ((self.a, self.c), self.op)\n",
    "\n",
    "  @classmethod\n",
    "  def tree_unflatten(cls, aux_data, children):\n",
    "    return cls(aux_data, *children)\n",
    "  \n",
    "tmpdir = tempfile.TemporaryDirectory().name\n",
    "try:\n",
    "  save({\"dataclass\": D(\"tanh\", random.normal(random.key(0), (7,)), 5), \n",
    "        \"a\": 1}, tmpdir)\n",
    "except ValueError:\n",
    "  print(\"Correctly refusing to serialize custom objects\")\n",
    "\n",
    "save({\"dataclass\": D(\"tanh\", random.normal(random.key(0), (7,)), 5), \n",
    "      \"a\": 1}, tmpdir, pickle_module=pickle)\n",
    "print(\"Serialized with pickle\")\n",
    "\n",
    "print(\"Extra folder: `node_data`\")\n",
    "print(check_output([\"tree\", \"-L\", \"2\", tmpdir]).decode()) \n",
    "print(\"-\" * 80)\n",
    "print((Path(tmpdir) / \"pytreedef.json\").read_text())"
   ]
  },
  {
   "cell_type": "code",
   "execution_count": 8,
   "metadata": {},
   "outputs": [
    {
     "name": "stdout",
     "output_type": "stream",
     "text": [
      "Correctly refuses to read without pickle\n",
      "Reads corectly with pickle\n",
      "{'a': 1, 'dataclass': D(op='tanh', a=Array([ 0.08086783, -0.38624713, -0.37565565,  0.58691907, -1.2758198 ,\n",
      "        2.1192005 , -0.85821223], dtype=float32), c=5)}\n"
     ]
    }
   ],
   "source": [
    "try:\n",
    "  load(tmpdir)\n",
    "except ValueError:\n",
    "  print(\"Correctly refuses to read without pickle\")\n",
    "\n",
    "print(\"Reads corectly with pickle\")\n",
    "print(load(tmpdir, pickle_module=pickle))"
   ]
  },
  {
   "cell_type": "markdown",
   "metadata": {},
   "source": [
    "## Best-effort reading when pickled objects are no longer available\n",
    "\n",
    "We can also attempt to load with `best_effort=True` without pickle or if the class definition / custom node registration has been lost.\n",
    "\n",
    "This will print a warning and will read the children of the former custom node and organized them in a list.\n",
    "\n",
    "All node data (e.g., static fields) are not read."
   ]
  },
  {
   "cell_type": "code",
   "execution_count": 10,
   "metadata": {},
   "outputs": [
    {
     "name": "stderr",
     "output_type": "stream",
     "text": [
      "WARNING:root:Unrecognized data type `__main__.D` we'll do our best and just return a list of children\n"
     ]
    },
    {
     "name": "stdout",
     "output_type": "stream",
     "text": [
      "{'a': 1, 'dataclass': [Array([ 0.08086783, -0.38624713, -0.37565565,  0.58691907, -1.2758198 ,\n",
      "        2.1192005 , -0.85821223], dtype=float32), 5]}\n"
     ]
    }
   ],
   "source": [
    "print(load(tmpdir, best_effort=True))"
   ]
  },
  {
   "cell_type": "code",
   "execution_count": 12,
   "metadata": {},
   "outputs": [
    {
     "name": "stderr",
     "output_type": "stream",
     "text": [
      "WARNING:root:Unrecognized data type `__main__.D` we'll do our best and just return a list of children\n"
     ]
    },
    {
     "data": {
      "text/plain": [
       "{'a': 'int -> e6949b9c-0df2-4ccf-9d06-b1c7829e8755',\n",
       " 'dataclass': ['float32[7] -> c1b70b87-ef9a-44b6-a99a-16fbe215aaf1',\n",
       "  'int -> 21d7949d-d3d5-44c3-9ff7-39ed443ccc77']}"
      ]
     },
     "execution_count": 12,
     "metadata": {},
     "output_type": "execute_result"
    }
   ],
   "source": [
    "load_pytree(tmpdir, best_effort=True)"
   ]
  },
  {
   "cell_type": "markdown",
   "metadata": {},
   "source": [
    "Careful! PyTree utils do not preserve key order"
   ]
  },
  {
   "cell_type": "code",
   "execution_count": 27,
   "metadata": {},
   "outputs": [
    {
     "name": "stdout",
     "output_type": "stream",
     "text": [
      "{'c': 1, 'a': 2}\n",
      "{'a': 2, 'c': 1}\n"
     ]
    }
   ],
   "source": [
    "d = {\"c\": 1, \"a\": 2}\n",
    "d2 = jax.tree.unflatten(jax.tree.structure(d), jax.tree.flatten(d)[0])\n",
    "print(d)\n",
    "print(d2)"
   ]
  },
  {
   "cell_type": "markdown",
   "metadata": {},
   "source": [
    "### Notes\n",
    "\n",
    "1. Must the resulting checkpoint be a directory? Can it not be a file?\n",
    "\n",
    "> The underlying checkpoint is a directory, tensorstore doesn't really support\n",
    "> writing single-file checkpoints that are well read-optimized.\n",
    "\n",
    "> It's possible to zip the result, piece-by-piece without wasting disk space,\n",
    "> which is probably a direction to explore. NOTE: tensorstore seems to support\n",
    "> **reading** from Python zipfile handles directly.\n",
    "\n",
    "2. How fast is saving the checkpoint given I/O can be slow?\n",
    "\n",
    "> Thanks to the underlying async usage, it should be pretty fast.\n",
    "\n",
    "3. Is RAM usage controlled?\n",
    "\n",
    "> Not at the moment, but it's possible to improve this. We can use tensorstore\n",
    "> to limit array writing memory usage and we can rewrite non-array writing to be\n",
    "> non-buffered through a bytes or text object (they are buffered to more cleanly\n",
    "> support file://, gcs://, s3:// alternatives).\n",
    "\n",
    "4. Why is the `pytreedef.json` weird like that?\n",
    "\n",
    "> The \"cleanest\" way to save a pytree structure is to just use a JSON\n",
    "> representation with leafs replaced with their data reference id. However,\n",
    "> JSON doesn't distinguish between tuple, list and so it doesn't really preserve\n",
    "> the actual pytree, even if it's limited to only in-built types. Also, when the\n",
    "> pytree contains custom nodes, we need a custom tree representation anyway.\n",
    "\n",
    "5. Isn't overwriting a **directory** checkpoint extremely dangerous if the \n",
    "\"checkpoint\" path turns out to be e.g \"/usr/local\"?\n",
    "\n",
    "> Yes, but we first check for files and directories we didn't create and refuse\n",
    "> to overwrite if there are any.\n",
    "\n",
    "6. Why doesn't Python LSP not work with synchronous versions: `save`, `load`?\n",
    "\n",
    "> I don't know, I need to fix it.\n",
    "\n",
    "7. Restored pytrees have dictionary node keys in a different order. Why?\n",
    "\n",
    "> This is pytree behavior, dictionaries order is not preserved.\n",
    "> [https://github.com/google/jax/issues/4085](https://github.com/google/jax/issues/4085)"
   ]
  }
 ],
 "metadata": {
  "kernelspec": {
   "display_name": "devel",
   "language": "python",
   "name": "python3"
  },
  "language_info": {
   "codemirror_mode": {
    "name": "ipython",
    "version": 3
   },
   "file_extension": ".py",
   "mimetype": "text/x-python",
   "name": "python",
   "nbconvert_exporter": "python",
   "pygments_lexer": "ipython3",
   "version": "3.11.9"
  }
 },
 "nbformat": 4,
 "nbformat_minor": 2
}
